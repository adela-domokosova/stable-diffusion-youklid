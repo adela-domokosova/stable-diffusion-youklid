{
  "nbformat": 4,
  "nbformat_minor": 0,
  "metadata": {
    "colab": {
      "provenance": [],
      "authorship_tag": "ABX9TyMJM3G6xhA32FP30P8erKCl",
      "include_colab_link": true
    },
    "kernelspec": {
      "name": "python3",
      "display_name": "Python 3"
    },
    "language_info": {
      "name": "python"
    }
  },
  "cells": [
    {
      "cell_type": "markdown",
      "metadata": {
        "id": "view-in-github",
        "colab_type": "text"
      },
      "source": [
        "<a href=\"https://colab.research.google.com/github/adela-domokosova/stable-diffusion-youklid/blob/generator/Untitled0.ipynb\" target=\"_parent\"><img src=\"https://colab.research.google.com/assets/colab-badge.svg\" alt=\"Open In Colab\"/></a>"
      ]
    },
    {
      "cell_type": "code",
      "execution_count": null,
      "metadata": {
        "id": "6z4uTgqD2eMq"
      },
      "outputs": [],
      "source": [
        "!pip install diffusers transformers accelerate safetensors\n"
      ]
    },
    {
      "cell_type": "code",
      "source": [
        "# Unmount and remount Google Drive\n",
        "from google.colab import drive\n",
        "drive.flush_and_unmount()\n",
        "drive.mount('/content/drive', force_remount=True)"
      ],
      "metadata": {
        "id": "DAD3TB-c2uIo"
      },
      "execution_count": null,
      "outputs": []
    },
    {
      "cell_type": "code",
      "source": [
        "from huggingface_hub import notebook_login\n",
        "notebook_login()"
      ],
      "metadata": {
        "id": "FxDJUpPZ2wHt"
      },
      "execution_count": null,
      "outputs": []
    },
    {
      "cell_type": "code",
      "source": [
        "from diffusers import StableDiffusionPipeline\n",
        "import torch\n",
        "from transformers import CLIPFeatureExtractor, CLIPTextModel\n",
        "\n",
        "# load the text encoder\n",
        "text_encoder = CLIPTextModel.from_pretrained(\"stabilityai/stable-diffusion-2-1\", subfolder=\"text_encoder\")\n",
        "feature_extractor = CLIPFeatureExtractor.from_pretrained(\"stabilityai/stable-diffusion-2-1\", subfolder=\"feature_extractor\")\n",
        "\n",
        "pipe = StableDiffusionPipeline.from_pretrained(\n",
        "    \"/content/drive/MyDrive/dreambooth-models/sks-figure\",\n",
        "    torch_dtype=torch.float16,\n",
        "    text_encoder=text_encoder,\n",
        "    feature_extractor=feature_extractor,\n",
        ").to(\"cuda\")"
      ],
      "metadata": {
        "id": "aaNjUjfG205P"
      },
      "execution_count": null,
      "outputs": []
    },
    {
      "cell_type": "code",
      "source": [
        "prompt = \"illustration of sks figure havinga birthday party\"\n",
        "image = pipe(prompt).images[0]\n",
        "image.show()\n"
      ],
      "metadata": {
        "id": "4nDRhiWt23Kd"
      },
      "execution_count": null,
      "outputs": []
    }
  ]
}